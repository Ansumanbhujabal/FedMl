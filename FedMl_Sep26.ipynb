{
  "cells": [
    {
      "cell_type": "code",
      "execution_count": null,
      "metadata": {
        "colab": {
          "base_uri": "https://localhost:8080/",
          "height": 1000
        },
        "collapsed": true,
        "id": "GwV_BtSZKfTk",
        "outputId": "2ef14810-c24d-480c-85f2-d2aee0297e11"
      },
      "outputs": [
        {
          "output_type": "stream",
          "name": "stdout",
          "text": [
            "Requirement already satisfied: flwr in /usr/local/lib/python3.10/dist-packages (1.11.1)\n",
            "Requirement already satisfied: cryptography<43.0.0,>=42.0.4 in /usr/local/lib/python3.10/dist-packages (from flwr) (42.0.8)\n",
            "Requirement already satisfied: grpcio!=1.64.2,!=1.65.1,!=1.65.2,!=1.65.4,<2.0.0,>=1.60.0 in /usr/local/lib/python3.10/dist-packages (from flwr) (1.64.1)\n",
            "Requirement already satisfied: iterators<0.0.3,>=0.0.2 in /usr/local/lib/python3.10/dist-packages (from flwr) (0.0.2)\n",
            "Requirement already satisfied: numpy<2.0.0,>=1.21.0 in /usr/local/lib/python3.10/dist-packages (from flwr) (1.26.4)\n",
            "Requirement already satisfied: pathspec<0.13.0,>=0.12.1 in /usr/local/lib/python3.10/dist-packages (from flwr) (0.12.1)\n",
            "Requirement already satisfied: protobuf<5.0.0,>=4.25.2 in /usr/local/lib/python3.10/dist-packages (from flwr) (4.25.5)\n",
            "Requirement already satisfied: pycryptodome<4.0.0,>=3.18.0 in /usr/local/lib/python3.10/dist-packages (from flwr) (3.20.0)\n",
            "Requirement already satisfied: tomli<3.0.0,>=2.0.1 in /usr/local/lib/python3.10/dist-packages (from flwr) (2.0.1)\n",
            "Requirement already satisfied: tomli-w<2.0.0,>=1.0.0 in /usr/local/lib/python3.10/dist-packages (from flwr) (1.0.0)\n",
            "Requirement already satisfied: typer<0.10.0,>=0.9.0 in /usr/local/lib/python3.10/dist-packages (from typer[all]<0.10.0,>=0.9.0->flwr) (0.9.4)\n",
            "Requirement already satisfied: cffi>=1.12 in /usr/local/lib/python3.10/dist-packages (from cryptography<43.0.0,>=42.0.4->flwr) (1.17.1)\n",
            "Requirement already satisfied: click<9.0.0,>=7.1.1 in /usr/local/lib/python3.10/dist-packages (from typer<0.10.0,>=0.9.0->typer[all]<0.10.0,>=0.9.0->flwr) (8.1.7)\n",
            "Requirement already satisfied: typing-extensions>=3.7.4.3 in /usr/local/lib/python3.10/dist-packages (from typer<0.10.0,>=0.9.0->typer[all]<0.10.0,>=0.9.0->flwr) (4.12.2)\n",
            "Requirement already satisfied: colorama<0.5.0,>=0.4.3 in /usr/local/lib/python3.10/dist-packages (from typer[all]<0.10.0,>=0.9.0->flwr) (0.4.6)\n",
            "Requirement already satisfied: shellingham<2.0.0,>=1.3.0 in /usr/local/lib/python3.10/dist-packages (from typer[all]<0.10.0,>=0.9.0->flwr) (1.5.4)\n",
            "Requirement already satisfied: rich<14.0.0,>=10.11.0 in /usr/local/lib/python3.10/dist-packages (from typer[all]<0.10.0,>=0.9.0->flwr) (13.8.1)\n",
            "Requirement already satisfied: pycparser in /usr/local/lib/python3.10/dist-packages (from cffi>=1.12->cryptography<43.0.0,>=42.0.4->flwr) (2.22)\n",
            "Requirement already satisfied: markdown-it-py>=2.2.0 in /usr/local/lib/python3.10/dist-packages (from rich<14.0.0,>=10.11.0->typer[all]<0.10.0,>=0.9.0->flwr) (3.0.0)\n",
            "Requirement already satisfied: pygments<3.0.0,>=2.13.0 in /usr/local/lib/python3.10/dist-packages (from rich<14.0.0,>=10.11.0->typer[all]<0.10.0,>=0.9.0->flwr) (2.18.0)\n",
            "Requirement already satisfied: mdurl~=0.1 in /usr/local/lib/python3.10/dist-packages (from markdown-it-py>=2.2.0->rich<14.0.0,>=10.11.0->typer[all]<0.10.0,>=0.9.0->flwr) (0.1.2)\n",
            "Requirement already satisfied: torch in /usr/local/lib/python3.10/dist-packages (2.4.1+cu121)\n",
            "Requirement already satisfied: torchvision in /usr/local/lib/python3.10/dist-packages (0.19.1+cu121)\n",
            "Requirement already satisfied: filelock in /usr/local/lib/python3.10/dist-packages (from torch) (3.16.1)\n",
            "Requirement already satisfied: typing-extensions>=4.8.0 in /usr/local/lib/python3.10/dist-packages (from torch) (4.12.2)\n",
            "Requirement already satisfied: sympy in /usr/local/lib/python3.10/dist-packages (from torch) (1.13.3)\n",
            "Requirement already satisfied: networkx in /usr/local/lib/python3.10/dist-packages (from torch) (3.3)\n",
            "Requirement already satisfied: jinja2 in /usr/local/lib/python3.10/dist-packages (from torch) (3.1.4)\n",
            "Requirement already satisfied: fsspec in /usr/local/lib/python3.10/dist-packages (from torch) (2024.6.1)\n",
            "Requirement already satisfied: numpy in /usr/local/lib/python3.10/dist-packages (from torchvision) (1.26.4)\n",
            "Requirement already satisfied: pillow!=8.3.*,>=5.3.0 in /usr/local/lib/python3.10/dist-packages (from torchvision) (10.4.0)\n",
            "Requirement already satisfied: MarkupSafe>=2.0 in /usr/local/lib/python3.10/dist-packages (from jinja2->torch) (2.1.5)\n",
            "Requirement already satisfied: mpmath<1.4,>=1.1.0 in /usr/local/lib/python3.10/dist-packages (from sympy->torch) (1.3.0)\n",
            "Requirement already satisfied: flwr[simulation] in /usr/local/lib/python3.10/dist-packages (1.11.1)\n",
            "Requirement already satisfied: cryptography<43.0.0,>=42.0.4 in /usr/local/lib/python3.10/dist-packages (from flwr[simulation]) (42.0.8)\n",
            "Requirement already satisfied: grpcio!=1.64.2,!=1.65.1,!=1.65.2,!=1.65.4,<2.0.0,>=1.60.0 in /usr/local/lib/python3.10/dist-packages (from flwr[simulation]) (1.64.1)\n",
            "Requirement already satisfied: iterators<0.0.3,>=0.0.2 in /usr/local/lib/python3.10/dist-packages (from flwr[simulation]) (0.0.2)\n",
            "Requirement already satisfied: numpy<2.0.0,>=1.21.0 in /usr/local/lib/python3.10/dist-packages (from flwr[simulation]) (1.26.4)\n",
            "Requirement already satisfied: pathspec<0.13.0,>=0.12.1 in /usr/local/lib/python3.10/dist-packages (from flwr[simulation]) (0.12.1)\n",
            "Requirement already satisfied: protobuf<5.0.0,>=4.25.2 in /usr/local/lib/python3.10/dist-packages (from flwr[simulation]) (4.25.5)\n",
            "Requirement already satisfied: pycryptodome<4.0.0,>=3.18.0 in /usr/local/lib/python3.10/dist-packages (from flwr[simulation]) (3.20.0)\n",
            "Requirement already satisfied: tomli<3.0.0,>=2.0.1 in /usr/local/lib/python3.10/dist-packages (from flwr[simulation]) (2.0.1)\n",
            "Requirement already satisfied: tomli-w<2.0.0,>=1.0.0 in /usr/local/lib/python3.10/dist-packages (from flwr[simulation]) (1.0.0)\n",
            "Requirement already satisfied: typer<0.10.0,>=0.9.0 in /usr/local/lib/python3.10/dist-packages (from typer[all]<0.10.0,>=0.9.0->flwr[simulation]) (0.9.4)\n",
            "Requirement already satisfied: ray==2.10.0 in /usr/local/lib/python3.10/dist-packages (from flwr[simulation]) (2.10.0)\n",
            "Requirement already satisfied: click>=7.0 in /usr/local/lib/python3.10/dist-packages (from ray==2.10.0->flwr[simulation]) (8.1.7)\n",
            "Requirement already satisfied: filelock in /usr/local/lib/python3.10/dist-packages (from ray==2.10.0->flwr[simulation]) (3.16.1)\n",
            "Requirement already satisfied: jsonschema in /usr/local/lib/python3.10/dist-packages (from ray==2.10.0->flwr[simulation]) (4.23.0)\n",
            "Requirement already satisfied: msgpack<2.0.0,>=1.0.0 in /usr/local/lib/python3.10/dist-packages (from ray==2.10.0->flwr[simulation]) (1.0.8)\n",
            "Requirement already satisfied: packaging in /usr/local/lib/python3.10/dist-packages (from ray==2.10.0->flwr[simulation]) (24.1)\n",
            "Requirement already satisfied: pyyaml in /usr/local/lib/python3.10/dist-packages (from ray==2.10.0->flwr[simulation]) (6.0.2)\n",
            "Requirement already satisfied: aiosignal in /usr/local/lib/python3.10/dist-packages (from ray==2.10.0->flwr[simulation]) (1.3.1)\n",
            "Requirement already satisfied: frozenlist in /usr/local/lib/python3.10/dist-packages (from ray==2.10.0->flwr[simulation]) (1.4.1)\n",
            "Requirement already satisfied: requests in /usr/local/lib/python3.10/dist-packages (from ray==2.10.0->flwr[simulation]) (2.32.3)\n",
            "Requirement already satisfied: cffi>=1.12 in /usr/local/lib/python3.10/dist-packages (from cryptography<43.0.0,>=42.0.4->flwr[simulation]) (1.17.1)\n",
            "Requirement already satisfied: typing-extensions>=3.7.4.3 in /usr/local/lib/python3.10/dist-packages (from typer<0.10.0,>=0.9.0->typer[all]<0.10.0,>=0.9.0->flwr[simulation]) (4.12.2)\n",
            "Requirement already satisfied: colorama<0.5.0,>=0.4.3 in /usr/local/lib/python3.10/dist-packages (from typer[all]<0.10.0,>=0.9.0->flwr[simulation]) (0.4.6)\n",
            "Requirement already satisfied: shellingham<2.0.0,>=1.3.0 in /usr/local/lib/python3.10/dist-packages (from typer[all]<0.10.0,>=0.9.0->flwr[simulation]) (1.5.4)\n",
            "Requirement already satisfied: rich<14.0.0,>=10.11.0 in /usr/local/lib/python3.10/dist-packages (from typer[all]<0.10.0,>=0.9.0->flwr[simulation]) (13.8.1)\n",
            "Requirement already satisfied: pycparser in /usr/local/lib/python3.10/dist-packages (from cffi>=1.12->cryptography<43.0.0,>=42.0.4->flwr[simulation]) (2.22)\n",
            "Requirement already satisfied: markdown-it-py>=2.2.0 in /usr/local/lib/python3.10/dist-packages (from rich<14.0.0,>=10.11.0->typer[all]<0.10.0,>=0.9.0->flwr[simulation]) (3.0.0)\n",
            "Requirement already satisfied: pygments<3.0.0,>=2.13.0 in /usr/local/lib/python3.10/dist-packages (from rich<14.0.0,>=10.11.0->typer[all]<0.10.0,>=0.9.0->flwr[simulation]) (2.18.0)\n",
            "Requirement already satisfied: attrs>=22.2.0 in /usr/local/lib/python3.10/dist-packages (from jsonschema->ray==2.10.0->flwr[simulation]) (24.2.0)\n",
            "Requirement already satisfied: jsonschema-specifications>=2023.03.6 in /usr/local/lib/python3.10/dist-packages (from jsonschema->ray==2.10.0->flwr[simulation]) (2023.12.1)\n",
            "Requirement already satisfied: referencing>=0.28.4 in /usr/local/lib/python3.10/dist-packages (from jsonschema->ray==2.10.0->flwr[simulation]) (0.35.1)\n",
            "Requirement already satisfied: rpds-py>=0.7.1 in /usr/local/lib/python3.10/dist-packages (from jsonschema->ray==2.10.0->flwr[simulation]) (0.20.0)\n",
            "Requirement already satisfied: charset-normalizer<4,>=2 in /usr/local/lib/python3.10/dist-packages (from requests->ray==2.10.0->flwr[simulation]) (3.3.2)\n",
            "Requirement already satisfied: idna<4,>=2.5 in /usr/local/lib/python3.10/dist-packages (from requests->ray==2.10.0->flwr[simulation]) (3.10)\n",
            "Requirement already satisfied: urllib3<3,>=1.21.1 in /usr/local/lib/python3.10/dist-packages (from requests->ray==2.10.0->flwr[simulation]) (2.2.3)\n",
            "Requirement already satisfied: certifi>=2017.4.17 in /usr/local/lib/python3.10/dist-packages (from requests->ray==2.10.0->flwr[simulation]) (2024.8.30)\n",
            "Requirement already satisfied: mdurl~=0.1 in /usr/local/lib/python3.10/dist-packages (from markdown-it-py>=2.2.0->rich<14.0.0,>=10.11.0->typer[all]<0.10.0,>=0.9.0->flwr[simulation]) (0.1.2)\n",
            "Collecting ray[default]\n",
            "  Using cached ray-2.36.1-cp310-cp310-manylinux2014_x86_64.whl.metadata (16 kB)\n",
            "Collecting click>=7.0 (from ray[default])\n",
            "  Using cached click-8.1.7-py3-none-any.whl.metadata (3.0 kB)\n",
            "Collecting filelock (from ray[default])\n",
            "  Using cached filelock-3.16.1-py3-none-any.whl.metadata (2.9 kB)\n",
            "Collecting jsonschema (from ray[default])\n",
            "  Using cached jsonschema-4.23.0-py3-none-any.whl.metadata (7.9 kB)\n",
            "Collecting msgpack<2.0.0,>=1.0.0 (from ray[default])\n",
            "  Using cached msgpack-1.1.0-cp310-cp310-manylinux_2_17_x86_64.manylinux2014_x86_64.whl.metadata (8.4 kB)\n",
            "Collecting packaging (from ray[default])\n",
            "  Using cached packaging-24.1-py3-none-any.whl.metadata (3.2 kB)\n",
            "Collecting protobuf!=3.19.5,>=3.15.3 (from ray[default])\n",
            "  Using cached protobuf-5.28.2-cp38-abi3-manylinux2014_x86_64.whl.metadata (592 bytes)\n",
            "Collecting pyyaml (from ray[default])\n",
            "  Using cached PyYAML-6.0.2-cp310-cp310-manylinux_2_17_x86_64.manylinux2014_x86_64.whl.metadata (2.1 kB)\n",
            "Collecting aiosignal (from ray[default])\n",
            "  Using cached aiosignal-1.3.1-py3-none-any.whl.metadata (4.0 kB)\n",
            "Collecting frozenlist (from ray[default])\n",
            "  Using cached frozenlist-1.4.1-cp310-cp310-manylinux_2_5_x86_64.manylinux1_x86_64.manylinux_2_17_x86_64.manylinux2014_x86_64.whl.metadata (12 kB)\n",
            "Collecting requests (from ray[default])\n",
            "  Using cached requests-2.32.3-py3-none-any.whl.metadata (4.6 kB)\n",
            "Collecting aiohttp>=3.7 (from ray[default])\n",
            "  Using cached aiohttp-3.10.5-cp310-cp310-manylinux_2_17_x86_64.manylinux2014_x86_64.whl.metadata (7.5 kB)\n",
            "Collecting aiohttp-cors (from ray[default])\n",
            "  Using cached aiohttp_cors-0.7.0-py3-none-any.whl.metadata (20 kB)\n",
            "Collecting colorful (from ray[default])\n",
            "  Using cached colorful-0.5.6-py2.py3-none-any.whl.metadata (16 kB)\n",
            "Collecting py-spy>=0.2.0 (from ray[default])\n",
            "  Using cached py_spy-0.3.14-py2.py3-none-manylinux_2_5_x86_64.manylinux1_x86_64.whl.metadata (16 kB)\n",
            "Collecting opencensus (from ray[default])\n",
            "  Using cached opencensus-0.11.4-py2.py3-none-any.whl.metadata (12 kB)\n",
            "Collecting pydantic!=2.0.*,!=2.1.*,!=2.2.*,!=2.3.*,!=2.4.*,<3 (from ray[default])\n",
            "  Using cached pydantic-2.9.2-py3-none-any.whl.metadata (149 kB)\n",
            "Collecting prometheus-client>=0.7.1 (from ray[default])\n",
            "  Using cached prometheus_client-0.21.0-py3-none-any.whl.metadata (1.8 kB)\n",
            "Collecting smart-open (from ray[default])\n",
            "  Using cached smart_open-7.0.4-py3-none-any.whl.metadata (23 kB)\n",
            "Collecting virtualenv!=20.21.1,>=20.0.24 (from ray[default])\n",
            "  Using cached virtualenv-20.26.5-py3-none-any.whl.metadata (4.5 kB)\n",
            "Collecting grpcio>=1.42.0 (from ray[default])\n",
            "  Using cached grpcio-1.66.1-cp310-cp310-manylinux_2_17_x86_64.manylinux2014_x86_64.whl.metadata (3.9 kB)\n",
            "Collecting memray (from ray[default])\n",
            "  Using cached memray-1.14.0-cp310-cp310-manylinux_2_12_x86_64.manylinux2010_x86_64.whl.metadata (19 kB)\n",
            "Collecting aiohappyeyeballs>=2.3.0 (from aiohttp>=3.7->ray[default])\n",
            "  Using cached aiohappyeyeballs-2.4.0-py3-none-any.whl.metadata (5.9 kB)\n",
            "Collecting attrs>=17.3.0 (from aiohttp>=3.7->ray[default])\n",
            "  Using cached attrs-24.2.0-py3-none-any.whl.metadata (11 kB)\n",
            "Collecting multidict<7.0,>=4.5 (from aiohttp>=3.7->ray[default])\n",
            "  Using cached multidict-6.1.0-cp310-cp310-manylinux_2_17_x86_64.manylinux2014_x86_64.whl.metadata (5.0 kB)\n",
            "Collecting yarl<2.0,>=1.0 (from aiohttp>=3.7->ray[default])\n",
            "  Using cached yarl-1.12.1-cp310-cp310-manylinux_2_17_x86_64.manylinux2014_x86_64.whl.metadata (49 kB)\n",
            "Collecting async-timeout<5.0,>=4.0 (from aiohttp>=3.7->ray[default])\n",
            "  Using cached async_timeout-4.0.3-py3-none-any.whl.metadata (4.2 kB)\n",
            "Collecting annotated-types>=0.6.0 (from pydantic!=2.0.*,!=2.1.*,!=2.2.*,!=2.3.*,!=2.4.*,<3->ray[default])\n",
            "  Using cached annotated_types-0.7.0-py3-none-any.whl.metadata (15 kB)\n",
            "Collecting pydantic-core==2.23.4 (from pydantic!=2.0.*,!=2.1.*,!=2.2.*,!=2.3.*,!=2.4.*,<3->ray[default])\n",
            "  Using cached pydantic_core-2.23.4-cp310-cp310-manylinux_2_17_x86_64.manylinux2014_x86_64.whl.metadata (6.6 kB)\n",
            "Collecting typing-extensions>=4.6.1 (from pydantic!=2.0.*,!=2.1.*,!=2.2.*,!=2.3.*,!=2.4.*,<3->ray[default])\n",
            "  Using cached typing_extensions-4.12.2-py3-none-any.whl.metadata (3.0 kB)\n",
            "Collecting distlib<1,>=0.3.7 (from virtualenv!=20.21.1,>=20.0.24->ray[default])\n",
            "  Using cached distlib-0.3.8-py2.py3-none-any.whl.metadata (5.1 kB)\n",
            "Collecting platformdirs<5,>=3.9.1 (from virtualenv!=20.21.1,>=20.0.24->ray[default])\n",
            "  Using cached platformdirs-4.3.6-py3-none-any.whl.metadata (11 kB)\n",
            "Collecting jsonschema-specifications>=2023.03.6 (from jsonschema->ray[default])\n",
            "  Using cached jsonschema_specifications-2023.12.1-py3-none-any.whl.metadata (3.0 kB)\n",
            "Collecting referencing>=0.28.4 (from jsonschema->ray[default])\n",
            "  Using cached referencing-0.35.1-py3-none-any.whl.metadata (2.8 kB)\n",
            "Collecting rpds-py>=0.7.1 (from jsonschema->ray[default])\n",
            "  Using cached rpds_py-0.20.0-cp310-cp310-manylinux_2_17_x86_64.manylinux2014_x86_64.whl.metadata (4.2 kB)\n",
            "Collecting jinja2>=2.9 (from memray->ray[default])\n",
            "  Using cached jinja2-3.1.4-py3-none-any.whl.metadata (2.6 kB)\n",
            "Collecting rich>=11.2.0 (from memray->ray[default])\n",
            "  Using cached rich-13.8.1-py3-none-any.whl.metadata (18 kB)\n",
            "Collecting textual>=0.41.0 (from memray->ray[default])\n",
            "  Using cached textual-0.80.1-py3-none-any.whl.metadata (5.6 kB)\n",
            "Collecting opencensus-context>=0.1.3 (from opencensus->ray[default])\n",
            "  Using cached opencensus_context-0.1.3-py2.py3-none-any.whl.metadata (3.3 kB)\n",
            "Collecting six~=1.16 (from opencensus->ray[default])\n",
            "  Using cached six-1.16.0-py2.py3-none-any.whl.metadata (1.8 kB)\n",
            "Collecting google-api-core<3.0.0,>=1.0.0 (from opencensus->ray[default])\n",
            "  Using cached google_api_core-2.20.0-py3-none-any.whl.metadata (2.7 kB)\n",
            "Collecting charset-normalizer<4,>=2 (from requests->ray[default])\n",
            "  Using cached charset_normalizer-3.3.2-cp310-cp310-manylinux_2_17_x86_64.manylinux2014_x86_64.whl.metadata (33 kB)\n",
            "Collecting idna<4,>=2.5 (from requests->ray[default])\n",
            "  Using cached idna-3.10-py3-none-any.whl.metadata (10 kB)\n",
            "Collecting urllib3<3,>=1.21.1 (from requests->ray[default])\n",
            "  Using cached urllib3-2.2.3-py3-none-any.whl.metadata (6.5 kB)\n",
            "Collecting certifi>=2017.4.17 (from requests->ray[default])\n",
            "  Using cached certifi-2024.8.30-py3-none-any.whl.metadata (2.2 kB)\n",
            "Collecting wrapt (from smart-open->ray[default])\n",
            "  Using cached wrapt-1.16.0-cp310-cp310-manylinux_2_5_x86_64.manylinux1_x86_64.manylinux_2_17_x86_64.manylinux2014_x86_64.whl.metadata (6.6 kB)\n",
            "Collecting googleapis-common-protos<2.0.dev0,>=1.56.2 (from google-api-core<3.0.0,>=1.0.0->opencensus->ray[default])\n",
            "  Using cached googleapis_common_protos-1.65.0-py2.py3-none-any.whl.metadata (1.5 kB)\n",
            "Collecting proto-plus<2.0.0dev,>=1.22.3 (from google-api-core<3.0.0,>=1.0.0->opencensus->ray[default])\n",
            "  Using cached proto_plus-1.24.0-py3-none-any.whl.metadata (2.2 kB)\n",
            "Collecting google-auth<3.0.dev0,>=2.14.1 (from google-api-core<3.0.0,>=1.0.0->opencensus->ray[default])\n",
            "  Using cached google_auth-2.35.0-py2.py3-none-any.whl.metadata (4.7 kB)\n",
            "Collecting MarkupSafe>=2.0 (from jinja2>=2.9->memray->ray[default])\n",
            "  Using cached MarkupSafe-2.1.5-cp310-cp310-manylinux_2_17_x86_64.manylinux2014_x86_64.whl.metadata (3.0 kB)\n",
            "Collecting markdown-it-py>=2.2.0 (from rich>=11.2.0->memray->ray[default])\n",
            "  Using cached markdown_it_py-3.0.0-py3-none-any.whl.metadata (6.9 kB)\n",
            "Collecting pygments<3.0.0,>=2.13.0 (from rich>=11.2.0->memray->ray[default])\n",
            "  Using cached pygments-2.18.0-py3-none-any.whl.metadata (2.5 kB)\n",
            "Collecting cachetools<6.0,>=2.0.0 (from google-auth<3.0.dev0,>=2.14.1->google-api-core<3.0.0,>=1.0.0->opencensus->ray[default])\n",
            "  Using cached cachetools-5.5.0-py3-none-any.whl.metadata (5.3 kB)\n",
            "Collecting pyasn1-modules>=0.2.1 (from google-auth<3.0.dev0,>=2.14.1->google-api-core<3.0.0,>=1.0.0->opencensus->ray[default])\n",
            "  Using cached pyasn1_modules-0.4.1-py3-none-any.whl.metadata (3.5 kB)\n",
            "Collecting rsa<5,>=3.1.4 (from google-auth<3.0.dev0,>=2.14.1->google-api-core<3.0.0,>=1.0.0->opencensus->ray[default])\n",
            "  Using cached rsa-4.9-py3-none-any.whl.metadata (4.2 kB)\n",
            "Collecting mdurl~=0.1 (from markdown-it-py>=2.2.0->rich>=11.2.0->memray->ray[default])\n",
            "  Using cached mdurl-0.1.2-py3-none-any.whl.metadata (1.6 kB)\n",
            "Collecting mdit-py-plugins (from markdown-it-py[linkify,plugins]>=2.1.0->textual>=0.41.0->memray->ray[default])\n",
            "  Using cached mdit_py_plugins-0.4.2-py3-none-any.whl.metadata (2.8 kB)\n",
            "Collecting linkify-it-py<3,>=1 (from markdown-it-py[linkify,plugins]>=2.1.0->textual>=0.41.0->memray->ray[default])\n",
            "  Using cached linkify_it_py-2.0.3-py3-none-any.whl.metadata (8.5 kB)\n",
            "Collecting uc-micro-py (from linkify-it-py<3,>=1->markdown-it-py[linkify,plugins]>=2.1.0->textual>=0.41.0->memray->ray[default])\n",
            "  Using cached uc_micro_py-1.0.3-py3-none-any.whl.metadata (2.0 kB)\n",
            "Collecting pyasn1<0.7.0,>=0.4.6 (from pyasn1-modules>=0.2.1->google-auth<3.0.dev0,>=2.14.1->google-api-core<3.0.0,>=1.0.0->opencensus->ray[default])\n",
            "  Using cached pyasn1-0.6.1-py3-none-any.whl.metadata (8.4 kB)\n",
            "Using cached aiohttp-3.10.5-cp310-cp310-manylinux_2_17_x86_64.manylinux2014_x86_64.whl (1.2 MB)\n",
            "Using cached aiosignal-1.3.1-py3-none-any.whl (7.6 kB)\n",
            "Using cached click-8.1.7-py3-none-any.whl (97 kB)\n",
            "Using cached frozenlist-1.4.1-cp310-cp310-manylinux_2_5_x86_64.manylinux1_x86_64.manylinux_2_17_x86_64.manylinux2014_x86_64.whl (239 kB)\n",
            "Using cached grpcio-1.66.1-cp310-cp310-manylinux_2_17_x86_64.manylinux2014_x86_64.whl (5.7 MB)\n",
            "Using cached msgpack-1.1.0-cp310-cp310-manylinux_2_17_x86_64.manylinux2014_x86_64.whl (378 kB)\n",
            "Using cached prometheus_client-0.21.0-py3-none-any.whl (54 kB)\n",
            "Using cached protobuf-5.28.2-cp38-abi3-manylinux2014_x86_64.whl (316 kB)\n",
            "Using cached py_spy-0.3.14-py2.py3-none-manylinux_2_5_x86_64.manylinux1_x86_64.whl (3.0 MB)\n",
            "Using cached pydantic-2.9.2-py3-none-any.whl (434 kB)\n",
            "Using cached pydantic_core-2.23.4-cp310-cp310-manylinux_2_17_x86_64.manylinux2014_x86_64.whl (2.1 MB)\n",
            "Using cached virtualenv-20.26.5-py3-none-any.whl (6.0 MB)\n",
            "Using cached filelock-3.16.1-py3-none-any.whl (16 kB)\n",
            "Using cached aiohttp_cors-0.7.0-py3-none-any.whl (27 kB)\n",
            "Using cached colorful-0.5.6-py2.py3-none-any.whl (201 kB)\n",
            "Using cached jsonschema-4.23.0-py3-none-any.whl (88 kB)\n",
            "Using cached memray-1.14.0-cp310-cp310-manylinux_2_12_x86_64.manylinux2010_x86_64.whl (8.3 MB)\n",
            "Using cached opencensus-0.11.4-py2.py3-none-any.whl (128 kB)\n",
            "Using cached packaging-24.1-py3-none-any.whl (53 kB)\n",
            "Using cached PyYAML-6.0.2-cp310-cp310-manylinux_2_17_x86_64.manylinux2014_x86_64.whl (751 kB)\n",
            "Using cached ray-2.36.1-cp310-cp310-manylinux2014_x86_64.whl (65.5 MB)\n",
            "Using cached requests-2.32.3-py3-none-any.whl (64 kB)\n",
            "Using cached smart_open-7.0.4-py3-none-any.whl (61 kB)\n",
            "Using cached aiohappyeyeballs-2.4.0-py3-none-any.whl (12 kB)\n",
            "Using cached annotated_types-0.7.0-py3-none-any.whl (13 kB)\n",
            "Using cached async_timeout-4.0.3-py3-none-any.whl (5.7 kB)\n",
            "Using cached attrs-24.2.0-py3-none-any.whl (63 kB)\n",
            "Using cached certifi-2024.8.30-py3-none-any.whl (167 kB)\n",
            "Using cached charset_normalizer-3.3.2-cp310-cp310-manylinux_2_17_x86_64.manylinux2014_x86_64.whl (142 kB)\n",
            "Using cached distlib-0.3.8-py2.py3-none-any.whl (468 kB)\n",
            "Using cached google_api_core-2.20.0-py3-none-any.whl (142 kB)\n",
            "Using cached idna-3.10-py3-none-any.whl (70 kB)\n",
            "Using cached jinja2-3.1.4-py3-none-any.whl (133 kB)\n",
            "Using cached jsonschema_specifications-2023.12.1-py3-none-any.whl (18 kB)\n",
            "Using cached multidict-6.1.0-cp310-cp310-manylinux_2_17_x86_64.manylinux2014_x86_64.whl (124 kB)\n",
            "Using cached opencensus_context-0.1.3-py2.py3-none-any.whl (5.1 kB)\n",
            "Using cached platformdirs-4.3.6-py3-none-any.whl (18 kB)\n",
            "Using cached referencing-0.35.1-py3-none-any.whl (26 kB)\n",
            "Using cached rich-13.8.1-py3-none-any.whl (241 kB)\n",
            "Using cached rpds_py-0.20.0-cp310-cp310-manylinux_2_17_x86_64.manylinux2014_x86_64.whl (354 kB)\n",
            "Using cached six-1.16.0-py2.py3-none-any.whl (11 kB)\n",
            "Using cached textual-0.80.1-py3-none-any.whl (596 kB)\n",
            "Using cached typing_extensions-4.12.2-py3-none-any.whl (37 kB)\n",
            "Using cached urllib3-2.2.3-py3-none-any.whl (126 kB)\n",
            "Using cached yarl-1.12.1-cp310-cp310-manylinux_2_17_x86_64.manylinux2014_x86_64.whl (446 kB)\n",
            "Using cached wrapt-1.16.0-cp310-cp310-manylinux_2_5_x86_64.manylinux1_x86_64.manylinux_2_17_x86_64.manylinux2014_x86_64.whl (80 kB)\n",
            "Using cached google_auth-2.35.0-py2.py3-none-any.whl (208 kB)\n",
            "Using cached googleapis_common_protos-1.65.0-py2.py3-none-any.whl (220 kB)\n",
            "Using cached markdown_it_py-3.0.0-py3-none-any.whl (87 kB)\n",
            "Using cached MarkupSafe-2.1.5-cp310-cp310-manylinux_2_17_x86_64.manylinux2014_x86_64.whl (25 kB)\n",
            "Using cached proto_plus-1.24.0-py3-none-any.whl (50 kB)\n",
            "Using cached pygments-2.18.0-py3-none-any.whl (1.2 MB)\n",
            "Using cached cachetools-5.5.0-py3-none-any.whl (9.5 kB)\n",
            "Using cached linkify_it_py-2.0.3-py3-none-any.whl (19 kB)\n",
            "Using cached mdurl-0.1.2-py3-none-any.whl (10.0 kB)\n",
            "Using cached pyasn1_modules-0.4.1-py3-none-any.whl (181 kB)\n",
            "Using cached rsa-4.9-py3-none-any.whl (34 kB)\n",
            "Using cached mdit_py_plugins-0.4.2-py3-none-any.whl (55 kB)\n",
            "Using cached pyasn1-0.6.1-py3-none-any.whl (83 kB)\n",
            "Using cached uc_micro_py-1.0.3-py3-none-any.whl (6.2 kB)\n",
            "Installing collected packages: py-spy, opencensus-context, distlib, colorful, wrapt, urllib3, uc-micro-py, typing-extensions, six, rpds-py, pyyaml, pygments, pyasn1, protobuf, prometheus-client, platformdirs, packaging, msgpack, mdurl, MarkupSafe, idna, grpcio, frozenlist, filelock, click, charset-normalizer, certifi, cachetools, attrs, async-timeout, annotated-types, aiohappyeyeballs, virtualenv, smart-open, rsa, requests, referencing, pydantic-core, pyasn1-modules, proto-plus, multidict, markdown-it-py, linkify-it-py, jinja2, googleapis-common-protos, aiosignal, yarl, rich, pydantic, mdit-py-plugins, jsonschema-specifications, google-auth, jsonschema, google-api-core, aiohttp, textual, ray, opencensus, aiohttp-cors, memray\n",
            "\u001b[31mERROR: pip's dependency resolver does not currently take into account all the packages that are installed. This behaviour is the source of the following dependency conflicts.\n",
            "ipython 7.34.0 requires jedi>=0.16, which is not installed.\n",
            "cudf-cu12 24.4.1 requires protobuf<5,>=3.20, but you have protobuf 5.28.2 which is incompatible.\n",
            "flwr 1.11.1 requires protobuf<5.0.0,>=4.25.2, but you have protobuf 5.28.2 which is incompatible.\n",
            "google-ai-generativelanguage 0.6.6 requires protobuf!=3.20.0,!=3.20.1,!=4.21.0,!=4.21.1,!=4.21.2,!=4.21.3,!=4.21.4,!=4.21.5,<5.0.0dev,>=3.19.5, but you have protobuf 5.28.2 which is incompatible.\n",
            "google-cloud-datastore 2.19.0 requires protobuf!=3.20.0,!=3.20.1,!=4.21.0,!=4.21.1,!=4.21.2,!=4.21.3,!=4.21.4,!=4.21.5,<5.0.0dev,>=3.19.5, but you have protobuf 5.28.2 which is incompatible.\n",
            "google-cloud-firestore 2.16.1 requires protobuf!=3.20.0,!=3.20.1,!=4.21.0,!=4.21.1,!=4.21.2,!=4.21.3,!=4.21.4,!=4.21.5,<5.0.0dev,>=3.19.5, but you have protobuf 5.28.2 which is incompatible.\n",
            "google-colab 1.0.0 requires google-auth==2.27.0, but you have google-auth 2.35.0 which is incompatible.\n",
            "tensorboard 2.17.0 requires protobuf!=4.24.0,<5.0.0,>=3.19.6, but you have protobuf 5.28.2 which is incompatible.\n",
            "tensorflow 2.17.0 requires protobuf!=4.21.0,!=4.21.1,!=4.21.2,!=4.21.3,!=4.21.4,!=4.21.5,<5.0.0dev,>=3.20.3, but you have protobuf 5.28.2 which is incompatible.\n",
            "tensorflow-metadata 1.15.0 requires protobuf<4.21,>=3.20.3; python_version < \"3.11\", but you have protobuf 5.28.2 which is incompatible.\u001b[0m\u001b[31m\n",
            "\u001b[0mSuccessfully installed MarkupSafe-2.1.5 aiohappyeyeballs-2.4.0 aiohttp-3.10.5 aiohttp-cors-0.7.0 aiosignal-1.3.1 annotated-types-0.7.0 async-timeout-4.0.3 attrs-24.2.0 cachetools-5.5.0 certifi-2024.8.30 charset-normalizer-3.3.2 click-8.1.7 colorful-0.5.6 distlib-0.3.8 filelock-3.16.1 frozenlist-1.4.1 google-api-core-2.19.2 google-auth-2.27.0 googleapis-common-protos-1.65.0 grpcio-1.64.1 idna-3.10 jinja2-3.1.4 jsonschema-4.23.0 jsonschema-specifications-2023.12.1 linkify-it-py-2.0.3 markdown-it-py-3.0.0 mdit-py-plugins-0.4.2 mdurl-0.1.2 memray-1.14.0 msgpack-1.0.8 multidict-6.1.0 opencensus-0.11.4 opencensus-context-0.1.3 packaging-24.1 platformdirs-4.3.6 prometheus-client-0.21.0 proto-plus-1.24.0 protobuf-4.25.5 py-spy-0.3.14 pyasn1-0.6.1 pyasn1-modules-0.4.1 pydantic-2.9.2 pydantic-core-2.23.4 pygments-2.18.0 pyyaml-6.0.2 ray-2.10.0 referencing-0.35.1 requests-2.32.3 rich-13.8.1 rpds-py-0.20.0 rsa-4.9 six-1.16.0 smart-open-7.0.4 textual-0.80.1 typing-extensions-4.12.2 uc-micro-py-1.0.3 urllib3-2.2.3 virtualenv-20.26.5 wrapt-1.16.0 yarl-1.11.1\n"
          ]
        },
        {
          "output_type": "display_data",
          "data": {
            "application/vnd.colab-display-data+json": {
              "pip_warning": {
                "packages": [
                  "certifi",
                  "google",
                  "six"
                ]
              },
              "id": "0304acb575ac4ff0af443d0fc93bf6fb"
            }
          },
          "metadata": {}
        }
      ],
      "source": [
        "!pip install flwr\n",
        "!pip install torch torchvision\n",
        "!pip install -U flwr[simulation]\n",
        "!pip install \"ray[default]\" --ignore-installed"
      ]
    },
    {
      "cell_type": "code",
      "execution_count": null,
      "metadata": {
        "id": "mM8mol3kNVr6"
      },
      "outputs": [],
      "source": [
        "import os\n",
        "import numpy as np\n",
        "import pandas as pd\n",
        "import matplotlib.pyplot as plt\n",
        "import seaborn as sns\n",
        "import os\n",
        "import shutil\n",
        "import zipfile\n",
        "from sklearn.model_selection import train_test_split\n",
        "from tensorflow.keras.applications.vgg16 import VGG16, preprocess_input\n",
        "from tensorflow.keras.layers import GlobalAveragePooling2D, Dense\n",
        "from tensorflow.keras.models import Model\n",
        "from tensorflow.keras.optimizers import Adam\n",
        "from tensorflow.keras.preprocessing.image import ImageDataGenerator\n",
        "from flwr.client import Client, ClientApp, NumPyClient\n",
        "from flwr.common import ndarrays_to_parameters, Context\n",
        "from flwr.server import ServerApp, ServerConfig\n",
        "from flwr.server import ServerAppComponents\n",
        "from flwr.server.strategy import FedAvg\n",
        "from flwr.simulation import run_simulation\n",
        "import flwr as fl\n",
        "from flwr.client import NumPyClient\n",
        "from flwr.common import (\n",
        "    EvaluateIns,\n",
        "    EvaluateRes,\n",
        "    FitIns,\n",
        "    FitRes,\n",
        "    Parameters,\n",
        "    Scalar,\n",
        "    ndarrays_to_parameters,\n",
        "    parameters_to_ndarrays,\n",
        ")\n",
        "import cv2\n",
        "import numpy as np\n",
        "import pandas as pd\n",
        "import tensorflow as tf\n",
        "from tensorflow import keras\n",
        "import matplotlib.pyplot as plt\n",
        "from tensorflow.keras import optimizers\n",
        "from tensorflow.keras.models import Model\n",
        "from tensorflow.keras.models import load_model\n",
        "from sklearn.model_selection import train_test_split\n",
        "from tensorflow.keras import Sequential,models,layers\n",
        "from tensorflow.keras.layers import BatchNormalization\n",
        "from tensorflow.keras.layers import Dense,Dropout,Flatten\n",
        "from tensorflow.keras.applications.resnet50 import  ResNet50\n",
        "from tensorflow.keras.preprocessing.image import img_to_array\n",
        "from tensorflow.keras.applications import VGG16, EfficientNetB6\n",
        "import numpy as np\n",
        "import pandas as pd\n",
        "import seaborn as sns\n",
        "sns.set_style('darkgrid')\n",
        "import matplotlib.pyplot as plt\n",
        "import os\n",
        "from PIL import Image\n",
        "from sklearn.model_selection import train_test_split\n",
        "from sklearn.metrics import confusion_matrix, classification_report\n",
        "import itertools\n",
        "import tensorflow as tf\n",
        "from typing import Dict, List\n",
        "from tensorflow.keras.models import Sequential\n",
        "from tensorflow.keras.optimizers import Adam, Adamax\n",
        "from tensorflow.keras.preprocessing.image import ImageDataGenerator\n",
        "from tensorflow.keras.layers import Conv2D, MaxPooling2D, Flatten, Dense\n",
        "from tensorflow.keras.applications.vgg16 import VGG16\n",
        "from tensorflow.keras.optimizers import Adam\n",
        "from flwr.common import NDArrays, Scalar\n",
        "import warnings\n",
        "\n",
        "warnings.filterwarnings(\"ignore\")"
      ]
    },
    {
      "cell_type": "code",
      "execution_count": null,
      "metadata": {
        "colab": {
          "base_uri": "https://localhost:8080/"
        },
        "collapsed": true,
        "id": "hLIGRRcwM0Le",
        "outputId": "86e639eb-93b8-4028-deb1-5d4943919d03"
      },
      "outputs": [
        {
          "output_type": "stream",
          "name": "stdout",
          "text": [
            "Archive:  BrainTumor.zip\n",
            "replace Testing/glioma/Te-glTr_0000.jpg? [y]es, [n]o, [A]ll, [N]one, [r]ename: "
          ]
        }
      ],
      "source": [
        "\n",
        "!unzip \"BrainTumor.zip\""
      ]
    },
    {
      "cell_type": "code",
      "execution_count": null,
      "metadata": {
        "id": "Up-LLfXHNIBg"
      },
      "outputs": [],
      "source": [
        "train_ds=\"/content/Training\"\n",
        "test_ds=\"/content/Testing\"\n"
      ]
    },
    {
      "cell_type": "code",
      "execution_count": null,
      "metadata": {
        "id": "AKKLyr0bPHjC"
      },
      "outputs": [],
      "source": [
        "train_giloma=\"/content/Training/glioma\"\n",
        "train_meningioma=\"/content/Training/meningioma\"\n",
        "train_pituitary=\"/content/Training/pituitary\"\n",
        "train_no_tumor=\"/content/Training/notumor\"\n",
        "\n",
        "test_giloma=\"/content/Testing/glioma\"\n",
        "test_meningioma=\"/content/Testing/meningioma\"\n",
        "test_pituitary=\"/content/Testing/pituitary\"\n",
        "test_no_tumor=\"/content/Testing/notumor\"\n",
        "\n",
        "train_sets=[train_giloma,train_meningioma,train_pituitary,train_no_tumor]\n",
        "test_sets=[test_giloma,test_meningioma,test_pituitary,test_no_tumor]\n"
      ]
    },
    {
      "cell_type": "code",
      "execution_count": null,
      "metadata": {
        "id": "7P8vCsaSQeeg"
      },
      "outputs": [],
      "source": [
        "class_names= os.listdir(train_ds)\n",
        "n_classes = len(class_names)\n",
        "print(f\"Total Number of Classes : {n_classes} \\nClass Names : {class_names}\")"
      ]
    },
    {
      "cell_type": "code",
      "execution_count": null,
      "metadata": {
        "id": "iC7dVFH2SDl1"
      },
      "outputs": [],
      "source": [
        "batch_size=32\n",
        "image_size = (224, 224)\n",
        "\n",
        "train_datagen = ImageDataGenerator()\n",
        "test_datagen = ImageDataGenerator()\n",
        "\n",
        "train_generator = train_datagen.flow_from_directory(train_ds,target_size= image_size ,batch_size=batch_size,shuffle=True,class_mode='categorical')\n",
        "test_generator = test_datagen.flow_from_directory(test_ds,target_size= image_size ,batch_size=batch_size,shuffle=True,class_mode='categorical')"
      ]
    },
    {
      "cell_type": "code",
      "execution_count": null,
      "metadata": {
        "id": "VuiOLhRmdXAS"
      },
      "outputs": [],
      "source": [
        "vgg_base = VGG16(weights='imagenet', include_top=False, input_shape=(224, 224, 3))\n",
        "\n",
        "# Freeze the convolutional base of VGG16 to retain pre-trained weights\n",
        "vgg_base.trainable = False\n",
        "\n",
        "# Add custom layers on top of the VGG16 base\n",
        "x = Flatten()(vgg_base.output)  # Flatten the output from the conv base\n",
        "x = Dense(512, activation='relu')(x)  # Add a fully connected layer\n",
        "x = Dense(4, activation='softmax')(x)  # 4 output classes\n",
        "\n",
        "model = Model(inputs=vgg_base.input, outputs=x)\n",
        "model.compile(optimizer=Adam(), loss='categorical_crossentropy', metrics=['accuracy'])\n",
        "model.summary()"
      ]
    },
    {
      "cell_type": "code",
      "execution_count": null,
      "metadata": {
        "id": "kKXa7LQ5YuFh"
      },
      "outputs": [],
      "source": [
        "batch_size=32\n",
        "image_size = (224, 224)\n",
        "\n",
        "train_no_tumor_datagen = ImageDataGenerator(rescale=1./255)\n",
        "test_no_tumor_datagen = ImageDataGenerator(rescale=1./255)\n",
        "\n",
        "train_no_tumor_generator = train_no_tumor_datagen.flow_from_directory(\n",
        "    '/content/Training',\n",
        "    target_size= image_size ,batch_size=batch_size,shuffle=True,class_mode='categorical'\n",
        ")\n",
        "\n",
        "test_no_tumor_generator = test_no_tumor_datagen.flow_from_directory(\n",
        "    '/content/Testing',target_size= image_size ,batch_size=batch_size,shuffle=True,class_mode='categorical')"
      ]
    },
    {
      "cell_type": "code",
      "execution_count": null,
      "metadata": {
        "id": "6hmUhE3hXbiM"
      },
      "outputs": [],
      "source": [
        "\n",
        "model.compile(optimizer='adam', loss='categorical_crossentropy', metrics=['accuracy'])\n",
        "\n",
        "\n"
      ]
    },
    {
      "cell_type": "code",
      "execution_count": null,
      "metadata": {
        "colab": {
          "base_uri": "https://localhost:8080/"
        },
        "collapsed": true,
        "id": "CfAXDrxxZ2g9",
        "outputId": "11332af7-1fc1-4ec8-da71-caa00e6ca0b4"
      },
      "outputs": [
        {
          "output_type": "stream",
          "name": "stdout",
          "text": [
            "Epoch 1/10\n",
            "\u001b[1m 47/179\u001b[0m \u001b[32m━━━━━\u001b[0m\u001b[37m━━━━━━━━━━━━━━━\u001b[0m \u001b[1m44:19\u001b[0m 20s/step - accuracy: 0.5249 - loss: 4.8594"
          ]
        }
      ],
      "source": [
        "history = model.fit(train_no_tumor_generator, epochs= 10, verbose= 1, validation_data=test_no_tumor_generator , shuffle= False)"
      ]
    },
    {
      "cell_type": "code",
      "execution_count": null,
      "metadata": {
        "id": "p8e3W83QrEbz"
      },
      "outputs": [],
      "source": [
        "def get_weights(model):\n",
        "    \"\"\"Retrieve model weights in a format compatible with Flower.\"\"\"\n",
        "    return model.get_weights()\n",
        "\n",
        "def set_weights(model, weights):\n",
        "    \"\"\"Set model weights using Flower parameters.\"\"\"\n",
        "    model.set_weights(weights)\n"
      ]
    },
    {
      "cell_type": "code",
      "execution_count": null,
      "metadata": {
        "id": "gZDzsCZLpzhJ"
      },
      "outputs": [],
      "source": [
        "# # Federated Learning Functions\n",
        "# def set_weights(model, parameters):\n",
        "#     params_dict = zip(model.state_dict().keys(), parameters)\n",
        "#     state_dict = OrderedDict({k: torch.tensor(v) for k, v in params_dict})\n",
        "#     model.load_state_dict(state_dict, strict=True)\n",
        "\n",
        "# def get_weights(model):\n",
        "#     ndarrays = [val.cpu().numpy() for _, val in model.state_dict().items()]\n",
        "#     return ndarrays"
      ]
    },
    {
      "cell_type": "code",
      "execution_count": null,
      "metadata": {
        "id": "nhrvCjOQfBwl"
      },
      "outputs": [],
      "source": [
        "# class FlowerClient(NumPyClient):\n",
        "#     def __init__(self, net, trainset, testset):\n",
        "#         self.net = net\n",
        "#         self.trainset = trainset\n",
        "#         self.testset = testset\n",
        "\n",
        "#     # Train the model\n",
        "#     def fit(self, parameters, config):\n",
        "#         set_weights(self.net, parameters)\n",
        "#         train_model(self.net, self.trainset)\n",
        "#         return get_weights(self.net), len(self.trainset), {}\n",
        "\n",
        "#     # Test the model\n",
        "#     def evaluate(self, parameters: NDArrays, config: Dict[str, Scalar]):\n",
        "#         set_weights(self.net, parameters)\n",
        "#         loss, accuracy = evaluate_model(self.net, self.testset)\n",
        "#         return loss, len(self.testset), {\"accuracy\": accuracy}"
      ]
    },
    {
      "cell_type": "code",
      "execution_count": null,
      "metadata": {
        "id": "2G-O9Owip7n4"
      },
      "outputs": [],
      "source": [
        "# FlowerClient class for Federated Learning\n",
        "class FlowerClient(NumPyClient):\n",
        "    def __init__(self, model, trainset, testset):\n",
        "        self.model = model\n",
        "        self.trainset = trainset\n",
        "        self.testset = testset\n",
        "\n",
        "    # Train the model\n",
        "    def fit(self, parameters: NDArrays, config: Dict[str, Scalar]):\n",
        "        set_weights(self.model, parameters)\n",
        "        self.model.fit(self.trainset, epochs=1)  # Train for one epoch per round\n",
        "        return get_weights(self.model), len(self.trainset), {}\n",
        "\n",
        "    # Evaluate the model\n",
        "    def evaluate(self, parameters: NDArrays, config: Dict[str, Scalar]):\n",
        "        set_weights(self.model, parameters)\n",
        "        loss, accuracy = self.model.evaluate(self.testset)\n",
        "        return loss, len(self.testset), {\"accuracy\": accuracy}"
      ]
    },
    {
      "cell_type": "code",
      "execution_count": null,
      "metadata": {
        "id": "tZ4LKYTmqDhS"
      },
      "outputs": [],
      "source": [
        "def evaluate_model(net, testset):\n",
        "    # Custom evaluation for the four tumor classes\n",
        "    loss, accuracy = net.evaluate(test_generator)\n",
        "    _, accuracy_glioma = net.evaluate(test_giloma)\n",
        "    _, accuracy_meningioma = net.evaluate(test_meningioma)\n",
        "    _, accuracy_pituitary = net.evaluate(test_pituitary)\n",
        "    _, accuracy_no_tumor = net.evaluate(test_no_tumor)\n",
        "\n",
        "    print(f\"Test accuracy (all): {accuracy:.4f}\")\n",
        "    print(f\"Test accuracy (glioma): {accuracy_glioma:.4f}\")\n",
        "    print(f\"Test accuracy (meningioma): {accuracy_meningioma:.4f}\")\n",
        "    print(f\"Test accuracy (pituitary): {accuracy_pituitary:.4f}\")\n",
        "    print(f\"Test accuracy (no tumor): {accuracy_no_tumor:.4f}\")"
      ]
    },
    {
      "cell_type": "code",
      "execution_count": null,
      "metadata": {
        "id": "kZ_wNRuffaSm"
      },
      "outputs": [],
      "source": [
        "# def client_fn(context: Context) -> NumPyClient:\n",
        "#     # Load the VGG16 model without the top fully connected layers\n",
        "#     model = VGG16(weights='imagenet', include_top=False, input_shape=(224, 224, 3))\n",
        "\n",
        "#     # Freeze the convolutional base\n",
        "#     model.trainable = False\n",
        "\n",
        "#     # Add custom layers on top of the VGG16 base\n",
        "#     x = Flatten()(model.output)\n",
        "#     x = Dense(512, activation='relu')(x)\n",
        "#     x = Dense(4, activation='softmax')(x)\n",
        "\n",
        "#     # Create the final model\n",
        "#     model = Model(inputs=model.input, outputs=x)\n",
        "\n",
        "#     # Compile the model\n",
        "#     model.compile(optimizer=Adam(), loss='categorical_crossentropy', metrics=['accuracy'])\n",
        "\n",
        "#     # Partition data\n",
        "#     partition_id = int(context.node_config[\"partition-id\"])\n",
        "#     client_train = train_sets[int(partition_id)]\n",
        "#     client_test = testset\n",
        "\n",
        "#     return FlowerClient(model, client_train, client_test)"
      ]
    },
    {
      "cell_type": "code",
      "execution_count": null,
      "metadata": {
        "id": "H3e387lSqeGj"
      },
      "outputs": [],
      "source": [
        "def client_fn(context: Context) -> NumPyClient:\n",
        "    # Load VGG16 with custom layers\n",
        "    model = VGG16(weights='imagenet', include_top=False, input_shape=(224, 224, 3))\n",
        "    model.trainable = False\n",
        "\n",
        "    # Add custom layers\n",
        "    x = Flatten()(model.output)\n",
        "    x = Dense(512, activation='relu')(x)\n",
        "    output_layer = Dense(4, activation='softmax')(x)\n",
        "\n",
        "    # Final model\n",
        "    model = Model(inputs=model.input, outputs=output_layer)\n",
        "    model.compile(optimizer=Adam(), loss='categorical_crossentropy', metrics=['accuracy'])\n",
        "\n",
        "    # Partitioning dataset\n",
        "    partition_id = int(context.node_config[\"partition-id\"])\n",
        "    client_train = train_generator\n",
        "    client_test = test_generator\n",
        "\n",
        "    return FlowerClient(model, client_train, client_test)\n"
      ]
    },
    {
      "cell_type": "code",
      "execution_count": null,
      "metadata": {
        "collapsed": true,
        "id": "h9BlwLl1qkPx"
      },
      "outputs": [],
      "source": [
        "# Server-side configuration\n",
        "def server_fn(context: Context):\n",
        "    strategy = FedAvg(\n",
        "        fraction_fit=1.0,\n",
        "        fraction_evaluate=0.0,\n",
        "        initial_parameters=ndarrays_to_parameters(get_weights(model)),\n",
        "        evaluate_fn=evaluate_model,\n",
        "    )\n",
        "    config = ServerConfig(num_rounds=3)\n",
        "    return ServerAppComponents(strategy=strategy, config=config)\n",
        "\n",
        "# Start the simulation\n",
        "server = ServerApp(server_fn=server_fn)\n",
        "run_simulation(server_app=server, client_app=client_fn, num_supernodes=5)"
      ]
    },
    {
      "cell_type": "code",
      "execution_count": null,
      "metadata": {
        "id": "SLaEmU3hrnWs"
      },
      "outputs": [],
      "source": [
        "def server_fn(context: Context):\n",
        "    strategy = FedAvg(\n",
        "        fraction_fit=1.0,\n",
        "        fraction_evaluate=0.0,\n",
        "        initial_parameters=ndarrays_to_parameters(initial_parameters),\n",
        "        evaluate_fn=evaluate,\n",
        "    )\n",
        "    config=ServerConfig(num_rounds=3)\n",
        "    return ServerAppComponents(\n",
        "        strategy=strategy,\n",
        "        config=config,\n",
        "    )"
      ]
    },
    {
      "cell_type": "code",
      "execution_count": null,
      "metadata": {
        "id": "mxzGK85Qr4pm"
      },
      "outputs": [],
      "source": [
        "server = ServerApp(server_fn=server_fn)\n",
        "run_simulation(server_app=server, client_app=client_fn, num_supernodes=5)"
      ]
    }
  ],
  "metadata": {
    "colab": {
      "provenance": [],
      "authorship_tag": "ABX9TyPIWsZxwLXeJlvkCUkeZQtJ"
    },
    "kernelspec": {
      "display_name": "Python 3",
      "name": "python3"
    },
    "language_info": {
      "name": "python"
    }
  },
  "nbformat": 4,
  "nbformat_minor": 0
}